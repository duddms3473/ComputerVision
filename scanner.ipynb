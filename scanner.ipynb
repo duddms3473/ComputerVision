{
 "cells": [
  {
   "cell_type": "code",
   "execution_count": null,
   "metadata": {},
   "outputs": [],
   "source": [
    "#과제2"
   ]
  },
  {
   "cell_type": "code",
   "execution_count": 57,
   "metadata": {},
   "outputs": [
    {
     "name": "stdout",
     "output_type": "stream",
     "text": [
      "(586, 637, 3)\n"
     ]
    },
    {
     "name": "stderr",
     "output_type": "stream",
     "text": [
      "<ipython-input-57-74b3ae497c26>:9: DeprecationWarning: an integer is required (got type numpy.float32).  Implicit conversion to integers using __int__ is deprecated, and may be removed in a future version of Python.\n",
      "  cv2.circle(copy_image, tuple(pt), 15, (0, 255, 255), -1, 1)\n",
      "<ipython-input-57-74b3ae497c26>:10: DeprecationWarning: an integer is required (got type numpy.float32).  Implicit conversion to integers using __int__ is deprecated, and may be removed in a future version of Python.\n",
      "  cv2.line(copy_image, tuple(corners[0]), tuple(corners[1]), (0, 255, 255), 4, 5)\n",
      "<ipython-input-57-74b3ae497c26>:11: DeprecationWarning: an integer is required (got type numpy.float32).  Implicit conversion to integers using __int__ is deprecated, and may be removed in a future version of Python.\n",
      "  cv2.line(copy_image, tuple(corners[1]), tuple(corners[2]), (0, 255, 255), 4, 5)\n",
      "<ipython-input-57-74b3ae497c26>:12: DeprecationWarning: an integer is required (got type numpy.float32).  Implicit conversion to integers using __int__ is deprecated, and may be removed in a future version of Python.\n",
      "  cv2.line(copy_image, tuple(corners[2]), tuple(corners[3]), (0, 255, 255), 4, 5)\n",
      "<ipython-input-57-74b3ae497c26>:13: DeprecationWarning: an integer is required (got type numpy.float32).  Implicit conversion to integers using __int__ is deprecated, and may be removed in a future version of Python.\n",
      "  cv2.line(copy_image, tuple(corners[3]), tuple(corners[0]), (0, 255, 255), 4, 5)\n"
     ]
    }
   ],
   "source": [
    "#1-(1) 수동(마우스 클릭)으로 코너 검출\n",
    "import numpy as np\n",
    "import cv2\n",
    "\n",
    "\n",
    "def draw_borderline(img, corners):\n",
    "    copy_image = img.copy()\n",
    "    for pt in corners:\n",
    "        cv2.circle(copy_image, tuple(pt), 15, (0, 255, 255), -1, 1)\n",
    "    cv2.line(copy_image, tuple(corners[0]), tuple(corners[1]), (0, 255, 255), 4, 5)\n",
    "    cv2.line(copy_image, tuple(corners[1]), tuple(corners[2]), (0, 255, 255), 4, 5)\n",
    "    cv2.line(copy_image, tuple(corners[2]), tuple(corners[3]), (0, 255, 255), 4, 5)\n",
    "    cv2.line(copy_image, tuple(corners[3]), tuple(corners[0]), (0, 255, 255), 4, 5)\n",
    "    return copy_image\n",
    "\n",
    "\n",
    "def onMouse(event, x, y, flags, param):\n",
    "    global points\n",
    "    if event == cv2.EVENT_LBUTTONDOWN:\n",
    "        for i in range(4):\n",
    "            if cv2.norm(start_points[i] - (x, y)) < 20:\n",
    "                drag_points[i] = True\n",
    "                points = (x, y)\n",
    "                break\n",
    "\n",
    "    if event == cv2.EVENT_LBUTTONUP:\n",
    "        for i in range(4):\n",
    "            drag_points[i] = False\n",
    "\n",
    "    if event == cv2.EVENT_MOUSEMOVE:\n",
    "        for i in range(4):\n",
    "            if drag_points[i]:\n",
    "                dx = x - points[0]\n",
    "                dy = y - points[1]\n",
    "                start_points[i] += (dx, dy)\n",
    "                cpy = draw_borderline(image, start_points)\n",
    "                cv2.imshow('image', cpy)\n",
    "                points = (x, y)\n",
    "                break\n",
    "\n",
    "\n",
    "\n",
    "image = cv2.imread('book.jpg')\n",
    "print(image.shape)\n",
    "h, w = image.shape[:2]\n",
    "\n",
    "result_w = 250\n",
    "result_h = 250\n",
    "\n",
    "start_points = np.array([[50, 50], [50, h-50], [w-50, h-50], [w-50, 50]], np.float32)\n",
    "end_points = np.array([[0, 0], [0, result_h-1], [result_w-1, result_h-1], [result_w-1, 0]], np.float32)\n",
    "\n",
    "drag_points = [False, False, False, False]\n",
    "\n",
    "\n",
    "borderline = draw_borderline(image, start_points)\n",
    "cv2.namedWindow('image',cv2.WINDOW_NORMAL)\n",
    "\n",
    "cv2.imshow('image', borderline)\n",
    "cv2.setMouseCallback('image', onMouse)\n",
    "\n",
    "while True:\n",
    "    key = cv2.waitKey()\n",
    "    if key == 13:\n",
    "        break\n",
    "    elif key == 27:\n",
    "        cv2.destroyWindow('image')\n",
    "\n",
    "# 투시 변환\n",
    "perspective_transform = cv2.getPerspectiveTransform(start_points, end_points)\n",
    "final_result = cv2.warpPerspective(image, perspective_transform, (result_w, result_h), flags=cv2.INTER_CUBIC)\n",
    "\n",
    "# 결과 영상 출력\n",
    "cv2.imshow('dst', final_result)\n",
    "cv2.waitKey()\n",
    "cv2.destroyAllWindows()"
   ]
  },
  {
   "cell_type": "code",
   "execution_count": 51,
   "metadata": {
    "scrolled": true
   },
   "outputs": [
    {
     "name": "stderr",
     "output_type": "stream",
     "text": [
      "<ipython-input-51-01fd29c030a8>:21: DeprecationWarning: an integer is required (got type numpy.float32).  Implicit conversion to integers using __int__ is deprecated, and may be removed in a future version of Python.\n",
      "  cv2.circle(image,tuple(i[0]),4,(0,0,255),2)\n"
     ]
    },
    {
     "name": "stdout",
     "output_type": "stream",
     "text": [
      "[[[ 19. 424.]]\n",
      "\n",
      " [[307. 520.]]\n",
      "\n",
      " [[167. 112.]]\n",
      "\n",
      " [[467. 161.]]]\n"
     ]
    }
   ],
   "source": [
    "#1-(2) 자동으로 코너검출\n",
    "\n",
    "import cv2, sys\n",
    "from matplotlib import pyplot as plt\n",
    "import numpy as np\n",
    "\n",
    "image = cv2.imread('book.jpg')\n",
    "image_gray = cv2.imread('book.jpg', cv2.IMREAD_GRAYSCALE)\n",
    "\n",
    "\n",
    "blur = cv2.GaussianBlur(image_gray, ksize=(13,13), sigmaX=0)\n",
    "edged = cv2.Canny(blur, 10, 250)\n",
    "\n",
    "cv2.imshow('Edged', edged)\n",
    "cv2.waitKey(0)\n",
    "\n",
    "\n",
    "corners=cv2.goodFeaturesToTrack(edged,4,0.01,300)\n",
    "\n",
    "for i in corners:\n",
    "    cv2.circle(image,tuple(i[0]),4,(0,0,255),2)\n",
    "    \n",
    "cv2.imshow('corner',image)\n",
    "cv2.waitKey(0)\n",
    "cv2.destroyAllWindows()\n",
    "\n",
    "\n",
    "result_w = 250\n",
    "result_h = 250\n",
    "\n",
    "\n",
    "print(corners)\n",
    "\n",
    "start=np.array([corners[0],corners[1],corners[2],corners[3]])\n",
    "end_points = np.array([[0, 250], [250, 250], [0, 0], [250, 0]], np.float32)\n",
    "\n",
    "#투시변환\n",
    "perspective_transform = cv2.getPerspectiveTransform(start,end_points)\n",
    "final_result = cv2.warpPerspective(image, perspective_transform, (result_w, result_h), flags=cv2.INTER_CUBIC)\n",
    "\n",
    "# 결과 영상 출력\n",
    "cv2.imshow('dst', final_result)\n",
    "cv2.waitKey()\n",
    "cv2.destroyAllWindows()\n",
    "\n",
    "#참고 : https://thebook.io/006939/ch08/02-01/\n",
    "#참고 : https://076923.github.io/posts/Python-opencv-23/\n",
    "#참고 : https://youbidan.tistory.com/19"
   ]
  }
 ],
 "metadata": {
  "kernelspec": {
   "display_name": "Python 3",
   "language": "python",
   "name": "python3"
  },
  "language_info": {
   "codemirror_mode": {
    "name": "ipython",
    "version": 3
   },
   "file_extension": ".py",
   "mimetype": "text/x-python",
   "name": "python",
   "nbconvert_exporter": "python",
   "pygments_lexer": "ipython3",
   "version": "3.8.3"
  }
 },
 "nbformat": 4,
 "nbformat_minor": 4
}
